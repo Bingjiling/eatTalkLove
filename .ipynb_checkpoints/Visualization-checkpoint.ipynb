{
 "cells": [
  {
   "cell_type": "code",
   "execution_count": 6,
   "metadata": {
    "collapsed": false
   },
   "outputs": [],
   "source": [
    "import pandas as pd \n",
    "import matplotlib.pyplot as plt\n",
    "\n",
    "review = pd.read_csv('./data/review.csv',nrows=10000)\n",
    "user = pd.read_csv('./data/user.csv')\n",
    "#review = df.ix[range(100),:]\n"
   ]
  },
  {
   "cell_type": "code",
   "execution_count": 4,
   "metadata": {
    "collapsed": false
   },
   "outputs": [
    {
     "name": "stdout",
     "output_type": "stream",
     "text": [
      "['yelping_since', 'compliments.plain', 'review_count', 'friends', 'compliments.cute', 'compliments.writer', 'fans', 'compliments.note', 'type', 'compliments.hot', 'compliments.cool', 'compliments.profile', 'average_stars', 'compliments.more', 'elite', 'name', 'user_id', 'votes.cool', 'compliments.list', 'votes.funny', 'compliments.photos', 'compliments.funny', 'votes.useful']\n"
     ]
    }
   ],
   "source": [
    "print user.columns.tolist()\n",
    "\n",
    "# print df.columns.tolist()\n",
    "# print df.ix[range(5),'votes.cool']\n",
    "# plt.hexbin(review['stars'], review['votes.cool'], cmap=plt.cm.YlOrRd_r)\n",
    "# cb = plt.colorbar()\n",
    "# cb.set_label('counts')\n",
    "\n",
    "# plt.show()"
   ]
  },
  {
   "cell_type": "code",
   "execution_count": 7,
   "metadata": {
    "collapsed": true
   },
   "outputs": [],
   "source": [
    "plt.hexbin(user['review_count'], user['average_stars'],cmap=plt.cm.RdBu)\n",
    "plt.title(\"hexbin plot of users' review_count VS average_stars\")\n",
    "cb = plt.colorbar()\n",
    "cb.set_label('counts')\n",
    "\n",
    "plt.show()"
   ]
  }
 ],
 "metadata": {
  "kernelspec": {
   "display_name": "Python 2",
   "language": "python",
   "name": "python2"
  },
  "language_info": {
   "codemirror_mode": {
    "name": "ipython",
    "version": 2
   },
   "file_extension": ".py",
   "mimetype": "text/x-python",
   "name": "python",
   "nbconvert_exporter": "python",
   "pygments_lexer": "ipython2",
   "version": "2.7.11"
  }
 },
 "nbformat": 4,
 "nbformat_minor": 0
}
